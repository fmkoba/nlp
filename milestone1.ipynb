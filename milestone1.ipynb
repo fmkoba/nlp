{
 "cells": [
  {
   "cell_type": "code",
   "execution_count": 2,
   "metadata": {},
   "outputs": [
    {
     "output_type": "stream",
     "name": "stderr",
     "text": "Using TensorFlow backend.\n"
    }
   ],
   "source": [
    "import pandas as pd\n",
    "from imblearn.under_sampling import RandomUnderSampler \n",
    "import altair\n",
    "import ndjson"
   ]
  },
  {
   "cell_type": "code",
   "execution_count": 4,
   "metadata": {},
   "outputs": [],
   "source": [
    "with open('data/data.json') as f:\n",
    "    data = ndjson.load(f)"
   ]
  },
  {
   "cell_type": "code",
   "execution_count": 5,
   "metadata": {},
   "outputs": [],
   "source": [
    "df = pd.DataFrame(data=data)"
   ]
  },
  {
   "cell_type": "code",
   "execution_count": 6,
   "metadata": {},
   "outputs": [
    {
     "output_type": "execute_result",
     "data": {
      "text/plain": "   overall  verified   reviewTime      reviewerID        asin  \\\n0      5.0      True  10 17, 2015  A1HP7NVNPFMA4N  0700026657   \n1      4.0     False  07 27, 2015  A1JGAP0185YJI6  0700026657   \n2      3.0      True  02 23, 2015  A1YJWEXHQBWK2B  0700026657   \n3      2.0      True  02 20, 2015  A2204E1TH211HT  0700026657   \n4      5.0      True  12 25, 2014  A2RF5B5H74JLPE  0700026657   \n\n        reviewerName                                         reviewText  \\\n0        Ambrosia075  This game is a bit hard to get the hang of, bu...   \n1             travis  I played it a while but it was alright. The st...   \n2  Vincent G. Mezera                                           ok game.   \n3         Grandma KR  found the game a bit too complicated, not what...   \n4                jon  great game, I love it and have played it since...   \n\n                                       summary  unixReviewTime vote style  \\\n0                  but when you do it's great.      1445040000  NaN   NaN   \n1  But in spite of that it was fun, I liked it      1437955200  NaN   NaN   \n2                                  Three Stars      1424649600  NaN   NaN   \n3                                    Two Stars      1424390400  NaN   NaN   \n4                               love this game      1419465600  NaN   NaN   \n\n  image  \n0   NaN  \n1   NaN  \n2   NaN  \n3   NaN  \n4   NaN  ",
      "text/html": "<div>\n<style scoped>\n    .dataframe tbody tr th:only-of-type {\n        vertical-align: middle;\n    }\n\n    .dataframe tbody tr th {\n        vertical-align: top;\n    }\n\n    .dataframe thead th {\n        text-align: right;\n    }\n</style>\n<table border=\"1\" class=\"dataframe\">\n  <thead>\n    <tr style=\"text-align: right;\">\n      <th></th>\n      <th>overall</th>\n      <th>verified</th>\n      <th>reviewTime</th>\n      <th>reviewerID</th>\n      <th>asin</th>\n      <th>reviewerName</th>\n      <th>reviewText</th>\n      <th>summary</th>\n      <th>unixReviewTime</th>\n      <th>vote</th>\n      <th>style</th>\n      <th>image</th>\n    </tr>\n  </thead>\n  <tbody>\n    <tr>\n      <th>0</th>\n      <td>5.0</td>\n      <td>True</td>\n      <td>10 17, 2015</td>\n      <td>A1HP7NVNPFMA4N</td>\n      <td>0700026657</td>\n      <td>Ambrosia075</td>\n      <td>This game is a bit hard to get the hang of, bu...</td>\n      <td>but when you do it's great.</td>\n      <td>1445040000</td>\n      <td>NaN</td>\n      <td>NaN</td>\n      <td>NaN</td>\n    </tr>\n    <tr>\n      <th>1</th>\n      <td>4.0</td>\n      <td>False</td>\n      <td>07 27, 2015</td>\n      <td>A1JGAP0185YJI6</td>\n      <td>0700026657</td>\n      <td>travis</td>\n      <td>I played it a while but it was alright. The st...</td>\n      <td>But in spite of that it was fun, I liked it</td>\n      <td>1437955200</td>\n      <td>NaN</td>\n      <td>NaN</td>\n      <td>NaN</td>\n    </tr>\n    <tr>\n      <th>2</th>\n      <td>3.0</td>\n      <td>True</td>\n      <td>02 23, 2015</td>\n      <td>A1YJWEXHQBWK2B</td>\n      <td>0700026657</td>\n      <td>Vincent G. Mezera</td>\n      <td>ok game.</td>\n      <td>Three Stars</td>\n      <td>1424649600</td>\n      <td>NaN</td>\n      <td>NaN</td>\n      <td>NaN</td>\n    </tr>\n    <tr>\n      <th>3</th>\n      <td>2.0</td>\n      <td>True</td>\n      <td>02 20, 2015</td>\n      <td>A2204E1TH211HT</td>\n      <td>0700026657</td>\n      <td>Grandma KR</td>\n      <td>found the game a bit too complicated, not what...</td>\n      <td>Two Stars</td>\n      <td>1424390400</td>\n      <td>NaN</td>\n      <td>NaN</td>\n      <td>NaN</td>\n    </tr>\n    <tr>\n      <th>4</th>\n      <td>5.0</td>\n      <td>True</td>\n      <td>12 25, 2014</td>\n      <td>A2RF5B5H74JLPE</td>\n      <td>0700026657</td>\n      <td>jon</td>\n      <td>great game, I love it and have played it since...</td>\n      <td>love this game</td>\n      <td>1419465600</td>\n      <td>NaN</td>\n      <td>NaN</td>\n      <td>NaN</td>\n    </tr>\n  </tbody>\n</table>\n</div>"
     },
     "metadata": {},
     "execution_count": 6
    }
   ],
   "source": [
    "df.head(5)"
   ]
  },
  {
   "cell_type": "code",
   "execution_count": 7,
   "metadata": {},
   "outputs": [],
   "source": [
    "\"\"\"\n",
    "1500 reviews with rating 1, \n",
    "500-500-500 reviews with ratings 2, 3, 4, \n",
    "1500 reviews with rating 5\n",
    "\"\"\"\n",
    "reviewAmounts = [1500, 500, 500, 500, 1500]\n",
    "smallCorpus = pd.DataFrame()\n",
    "for key in range(len(reviewAmounts)):\n",
    "    tempDf = df['overall']==key+1\n",
    "    tempDf = df[tempDf]\n",
    "    tempDf = tempDf.sample(reviewAmounts[key])\n",
    "    smallCorpus = smallCorpus.append(tempDf)"
   ]
  },
  {
   "cell_type": "code",
   "execution_count": 8,
   "metadata": {},
   "outputs": [],
   "source": [
    "\"\"\"\n",
    "Take a random sample of the reviews by selecting 100,000 reviews.\n",
    "This way you get a bigger representative corpus, on which you will work in Milestones 4 and 5.\n",
    "It is recommended to use numpy.random.randint.\n",
    "If you want to get identical results that are provided as a sample solution, use 42 as a random state.\n",
    "\"\"\"\n",
    "bigCorpus = df.sample(100000)"
   ]
  },
  {
   "cell_type": "code",
   "execution_count": 9,
   "metadata": {},
   "outputs": [],
   "source": [
    "\"\"\"\n",
    "Export your corpora to two separate csv files.\n",
    "Both of your tables should contain a column for the reviews and a column for the ratings.\n",
    "From now on we call the review text of the json key as reviews and the overall key as ratings.\n",
    "Name your corpora as small_corpus and big_corpus.\n",
    "\"\"\"\n",
    "smallCorpus[['overall', 'reviewText']].to_csv('dist/small.csv')\n",
    "bigCorpus[['overall', 'reviewText']].to_csv('dist/big.csv')"
   ]
  },
  {
   "cell_type": "code",
   "execution_count": null,
   "metadata": {},
   "outputs": [],
   "source": []
  },
  {
   "cell_type": "code",
   "execution_count": 22,
   "metadata": {},
   "outputs": [
    {
     "output_type": "stream",
     "name": "stdout",
     "text": "['Fans', 'of', 'the', 'survival', 'horror', 'gaming', 'genre', 'were', 'no', 'doubt', 'excited', 'by', 'unraveling', 'the', 'mystery', 'of', 'Sirens', 'errie', 'Japanese', 'town', 'with', 'the', 'terrifying', 'past.', 'Sadly', ',', 'the', 'premise', 'is', 'about', 'as', 'exciting', 'as', 'the', 'game', 'gets.', 'The', 'Pros', 'This', 'game', 'is', 'a', 'really', 'gorgeous', 'visual', 'treat.', 'The', 'chracters', 'are', 'rendered', 'with', 'a', 'new', 'technolgy', 'that', 'actually', 'wraps', 'realistic', 'images', 'onto', '3d', 'computerized', 'planes.', 'The', 'setting', 'has', 'been', 'developed', 'well.', 'The', 'village', 'of', 'Hanuda', 'is', 'a', 'scary', 'place', 'cast', 'in', 'eternal', 'darkness', 'surrounded', 'by', 'a', 'sea', 'of', 'blood', 'and', 'of', 'course', 'the', 'Siren', 'going', 'off', 'in', 'the', 'background.', 'The', 'Cons', '(', 'and', 'there', 'are', 'many', ')', 'The', 'game', 'developers', 'dubbed', 'the', 'game', 'with', 'a', 'British', 'voice', 'over', 'crew', 'which', 'in', 'the', 'beginning', 'is', 'comical', 'but', 'after', 'awhile', 'just', 'feels', 'ridiculous.', 'For', 'some', 'people', 'this', 'may', 'not', 'be', 'an', 'issue', 'at', 'all', 'but', 'for', 'me', 'it', 'just', 'seemed', 'distracting', 'playing', 'a', 'Japanese', 'guy', 'and', 'to', 'hear', 'him', 'shout', '``', 'Oi', 'Mate', '!', 'wait', 'up', '!', \"''\", 'Secondly', ',', 'the', 'gameplay', 'is', 'terribly', 'limited', 'and', 're-do', \"'s\", 'abound.', 'More', 'skilled', 'gamers', 'may', 'not', 'have', 'to', 'replay', 'missions', 'as', 'much', 'but', 'I', 'found', 'it', 'hard', 'not', 'to', 'be', 'killed', 'as', '80', '%', 'of', 'the', 'time', 'your', 'only', 'defense', 'is', 'to', 'run', 'and', 'hide.', 'The', 'game', 'employs', 'a', 'drop', 'down', 'menu', 'to', 'issue', 'command', 'to', 'your', 'character.', 'The', 'menu', 'is', 'easy', 'to', 'use', 'but', 'truly', 'annoying.', 'A', 'good', 'example', 'occurs', 'on', 'the', 'first', 'mission.', 'Your', 'goal', 'is', 'to', 'escape', 'a', 'bad', 'guy', 'via', 'car.', 'The', 'drop', 'down', 'menu', 'asks', 'you', '1', ')', 'Would', 'you', 'like', 'to', 'pick', 'up', 'the', 'car', 'key', '?', '2', ')', 'Would', 'you', 'like', 'get', 'in', 'the', 'car', '?', '3', ')', 'Put', 'key', 'in', 'ignition', '?', '4', ')', 'Turn', 'key', 'to', 'start', 'car', '?', '-', 'truly', 'gets', 'to', 'be', 'cumbersome', 'to', 'game', 'play.', 'Lastly', ',', 'the', 'game', 'uses', 'a', 'event', 'system/', 'time', 'table', 'for', 'you', 'to', 'keep', 'track', 'of', 'events', 'as', 'they', 'happen', 'to', 'all', '10', 'playable', 'chracters.', 'While', 'that', 'sounds', 'convoluted', 'in', 'itself', 'it', 'only', 'gets', 'worse', 'that', 'you', 'have', 'to', 'play', 'all', 'ten', 'characters', 'and', 'not', 'one', 'at', 'a', 'time.', 'The', 'game', 'is', 'broken', 'up', 'into', 'missions.', 'For', 'example', ',', 'one', 'mission', 'may', 'involve', 'a', 'journalist', 'and', 'reveal', 'certian', 'parts', 'of', 'the', 'mystery', 'and', 'these', 'events', 'are', 'recorded', 'on', 'the', 'time', 'table.', 'The', 'next', 'mission', 'you', 'are', 'introduced', 'to', 'a', 'new', 'character', 'and', 'complete', 'the', 'next', 'mission', 'and', 'learn', 'more.', 'You', 'must', 'refer', 'back', 'to', 'the', 'time', 'table', 'to', 'try', 'and', 'piece', 'it', 'all', 'together.', 'Siren', 'was', 'a', 'truly', 'exciting', 'idea', 'thta', 'really', 'failed', 'to', 'deliver.', 'I', 'do', \"n't\", 'feel', 'many', 'people', 'actually', 'completed', 'as', 'I', 'myself', 'grew', 'bored', 'and', 'gave', 'up', 'halfway', 'through.', 'If', 'you', 'truly', 'want', 'to', 'be', 'scared', 'and', 'enetertained', 'I', 'recommend', 'Fatal', 'Frame', '1', 'or', '2', 'as', 'both', 'are', 'in', 'my', 'opinion', 'the', 'best', '(', 'and', 'scariest', ')', 'the', 'genre', 'has', 'to', 'offer', '.']\n"
    }
   ],
   "source": [
    "\"\"\"\n",
    "Word Tokenization\n",
    "\"\"\"\n",
    "from nltk.tokenize import TreebankWordTokenizer\n",
    "tokenizer = TreebankWordTokenizer()\n",
    "review = smallCorpus[['reviewText']]\n",
    "sentence = review.iloc[0]['reviewText']\n",
    "tokenized_words = tokenizer.tokenize(sentence)\n",
    "print(tokenized_words)"
   ]
  },
  {
   "cell_type": "code",
   "execution_count": 23,
   "metadata": {},
   "outputs": [
    {
     "output_type": "stream",
     "name": "stdout",
     "text": "['Fans of the survival horror gaming genre were no doubt excited by unraveling the mystery of Sirens errie Japanese town with the terrifying past.', 'Sadly, the premise is about as exciting as the game gets.', 'The Pros\\n\\nThis game is a really gorgeous visual treat.', 'The chracters are rendered with a new technolgy that actually wraps realistic images onto 3d computerized planes.', 'The setting has been developed well.', 'The village of Hanuda is a scary place cast in eternal darkness surrounded by a sea of blood and of course the Siren going off in the background.', 'The Cons (and there are many)\\n\\nThe game developers dubbed the game with a British voice over crew which in the beginning is comical but after awhile just feels ridiculous.', 'For some people this may not be an issue at all but for me it just seemed distracting playing a Japanese guy and to hear him shout \"Oi Mate!', 'wait up!\"', \"Secondly, the gameplay is terribly limited and re-do's abound.\", 'More skilled gamers may not have to replay missions as much but I found it hard not to be killed as 80% of the time your only defense is to run and hide.', 'The game employs a drop down menu to issue command to your character.', 'The menu is easy to use but truly annoying.', 'A good example occurs on the first mission.', 'Your goal is to escape a bad guy via car.', 'The drop down menu asks you 1) Would you like to pick up the car key?', '2) Would you like get in the car?', '3) Put key in ignition?', '4) Turn key to start car?- truly gets to be cumbersome to game play.', 'Lastly, the game uses a event system/ time table for you to keep track of events as they happen to all 10 playable chracters.', 'While that sounds convoluted in itself it only gets worse that you have to play all ten characters and not one at a time.', 'The game is broken up into missions.', 'For example,one mission may involve a journalist and reveal certian parts of the mystery and these events are recorded on the time table.', 'The next mission you are introduced to a new character and complete the next mission and learn more.', 'You must refer back to the time table to try and piece it all together.', 'Siren was a truly exciting idea thta really failed to deliver.', \"I don't feel many people actually completed as I myself grew bored and gave up halfway through.\", 'If you truly want to be scared and enetertained I recommend Fatal Frame 1 or 2 as both are in my opinion the best (and scariest) the genre has to offer.']\n"
    }
   ],
   "source": [
    "\"\"\"\n",
    "Sentence Tokenization\n",
    "\"\"\"\n",
    "import nltk\n",
    "tokenized_sentence = nltk.sent_tokenize(sentence)\n",
    "print(tokenized_sentence)"
   ]
  },
  {
   "cell_type": "code",
   "execution_count": 31,
   "metadata": {},
   "outputs": [
    {
     "output_type": "error",
     "ename": "SyntaxError",
     "evalue": "invalid syntax (<ipython-input-31-9bd628c3d4be>, line 5)",
     "traceback": [
      "\u001b[0;36m  File \u001b[0;32m\"<ipython-input-31-9bd628c3d4be>\"\u001b[0;36m, line \u001b[0;32m5\u001b[0m\n\u001b[0;31m    another_tokenized_sentence = re.split(r'[.\\n!?]+', sentence)m())\u001b[0m\n\u001b[0m                                                                ^\u001b[0m\n\u001b[0;31mSyntaxError\u001b[0m\u001b[0;31m:\u001b[0m invalid syntax\n"
     ]
    }
   ],
   "source": [
    "\"\"\"\n",
    "Not really helpful\n",
    "\"\"\"\n",
    "import re\n",
    "another_tokenized_sentence = re.split(r'[.\\n!?]+', sentence)m())\n",
    "print(another_tokenized_sentence)"
   ]
  },
  {
   "cell_type": "code",
   "execution_count": null,
   "metadata": {},
   "outputs": [],
   "source": []
  },
  {
   "cell_type": "code",
   "execution_count": null,
   "metadata": {},
   "outputs": [],
   "source": []
  }
 ],
 "metadata": {
  "kernelspec": {
   "display_name": "dunno",
   "language": "python",
   "name": "dunno"
  },
  "language_info": {
   "codemirror_mode": {
    "name": "ipython",
    "version": 3
   },
   "file_extension": ".py",
   "mimetype": "text/x-python",
   "name": "python",
   "nbconvert_exporter": "python",
   "pygments_lexer": "ipython3",
   "version": "3.8.3-final"
  }
 },
 "nbformat": 4,
 "nbformat_minor": 4
}